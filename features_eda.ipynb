{
 "cells": [
  {
   "cell_type": "markdown",
   "metadata": {},
   "source": [
    "# Exploratory Data Analysis (EDA) of the MovieLens Dataset\n",
    "\n",
    "This notebook is an exploratory data analysis (EDA) of the MovieLens dataset. The ratings are integers between 1 and 5. The dataset also contains the genre of each movie."
   ]
  },
  {
   "cell_type": "code",
   "execution_count": 1,
   "metadata": {},
   "outputs": [],
   "source": [
    "import pandas as pd"
   ]
  },
  {
   "cell_type": "code",
   "execution_count": 2,
   "metadata": {},
   "outputs": [],
   "source": [
    "# Assumes that the data is in the data folder.\n",
    "# Run prepare_data() on a datamodule to load the data.\n",
    "\n",
    "ratings = pd.read_csv('data/ratings.csv')\n",
    "movie_meta = pd.read_csv('data/movies.csv')"
   ]
  },
  {
   "cell_type": "code",
   "execution_count": 3,
   "metadata": {},
   "outputs": [
    {
     "name": "stdout",
     "output_type": "stream",
     "text": [
      "Before: 86537\n",
      "After: 83239\n"
     ]
    }
   ],
   "source": [
    "# Drop movies never rated\n",
    "print(f\"Before: {len(movie_meta)}\")\n",
    "movie_meta = movie_meta[movie_meta['movieId'].isin(ratings['movieId'])]\n",
    "print(f\"After: {len(movie_meta)}\")"
   ]
  },
  {
   "cell_type": "code",
   "execution_count": 4,
   "metadata": {},
   "outputs": [],
   "source": [
    "ratings[\"datetime\"] = pd.to_datetime(ratings[\"timestamp\"], unit='s')\n"
   ]
  },
  {
   "cell_type": "code",
   "execution_count": 5,
   "metadata": {},
   "outputs": [
    {
     "name": "stdout",
     "output_type": "stream",
     "text": [
      "Dropping 0 movies with missing year\n"
     ]
    }
   ],
   "source": [
    "year_pattern = r\"\\((\\d{4})\\)\"\n",
    "movie_meta[\"year\"] = movie_meta.title.str.extract(year_pattern)\n",
    "\n",
    "# Fill missing year values with movie's min year from ratings\n",
    "missing_mask = movie_meta[\"year\"].isna()\n",
    "mapping = (\n",
    "    ratings.sort_values(\"datetime\")\n",
    "    .drop_duplicates(\"movieId\", keep=\"first\")\n",
    "    .set_index(\"movieId\")[\"datetime\"]\n",
    "    .apply(lambda x: x.year)\n",
    ")\n",
    "movie_meta.loc[missing_mask, \"year\"] = movie_meta.loc[missing_mask, \"movieId\"].map(\n",
    "    mapping\n",
    ")\n",
    "\n",
    "\n",
    "print(f\"Dropping {movie_meta.year.isna().sum()} movies with missing year\")\n",
    "movie_meta = movie_meta.dropna(subset=[\"year\"])\n",
    "\n",
    "movie_meta[\"year\"] = movie_meta.year.astype(int)\n",
    "movie_meta[\"title\"] = movie_meta.title.str.replace(\n",
    "    year_pattern, \"\", regex=True\n",
    ").str.strip()\n",
    "movie_meta.rename(columns={\"movieId\": \"movie_id\"}, inplace=True)"
   ]
  },
  {
   "cell_type": "code",
   "execution_count": 6,
   "metadata": {},
   "outputs": [],
   "source": [
    "# Make genre dummies\n",
    "genre_dummies = movie_meta.genres.str.get_dummies(sep='|').drop(columns=\"(no genres listed)\").rename(columns=lambda x: x.lower().replace(\"-\", \"_\"))"
   ]
  },
  {
   "cell_type": "code",
   "execution_count": 8,
   "metadata": {},
   "outputs": [],
   "source": [
    "movie_meta = pd.concat([movie_meta[[\"movie_id\", \"title\", \"year\"]], genre_dummies], axis=1)\n"
   ]
  },
  {
   "cell_type": "code",
   "execution_count": 9,
   "metadata": {},
   "outputs": [
    {
     "name": "stdout",
     "output_type": "stream",
     "text": [
      "<class 'pandas.core.frame.DataFrame'>\n",
      "Index: 83239 entries, 0 to 86536\n",
      "Data columns (total 22 columns):\n",
      " #   Column       Non-Null Count  Dtype \n",
      "---  ------       --------------  ----- \n",
      " 0   movie_id     83239 non-null  int64 \n",
      " 1   title        83239 non-null  object\n",
      " 2   year         83239 non-null  int64 \n",
      " 3   action       83239 non-null  int64 \n",
      " 4   adventure    83239 non-null  int64 \n",
      " 5   animation    83239 non-null  int64 \n",
      " 6   children     83239 non-null  int64 \n",
      " 7   comedy       83239 non-null  int64 \n",
      " 8   crime        83239 non-null  int64 \n",
      " 9   documentary  83239 non-null  int64 \n",
      " 10  drama        83239 non-null  int64 \n",
      " 11  fantasy      83239 non-null  int64 \n",
      " 12  film_noir    83239 non-null  int64 \n",
      " 13  horror       83239 non-null  int64 \n",
      " 14  imax         83239 non-null  int64 \n",
      " 15  musical      83239 non-null  int64 \n",
      " 16  mystery      83239 non-null  int64 \n",
      " 17  romance      83239 non-null  int64 \n",
      " 18  sci_fi       83239 non-null  int64 \n",
      " 19  thriller     83239 non-null  int64 \n",
      " 20  war          83239 non-null  int64 \n",
      " 21  western      83239 non-null  int64 \n",
      "dtypes: int64(21), object(1)\n",
      "memory usage: 14.6+ MB\n"
     ]
    },
    {
     "data": {
      "text/plain": [
       "None"
      ]
     },
     "metadata": {},
     "output_type": "display_data"
    },
    {
     "data": {
      "text/html": [
       "<div>\n",
       "<style scoped>\n",
       "    .dataframe tbody tr th:only-of-type {\n",
       "        vertical-align: middle;\n",
       "    }\n",
       "\n",
       "    .dataframe tbody tr th {\n",
       "        vertical-align: top;\n",
       "    }\n",
       "\n",
       "    .dataframe thead th {\n",
       "        text-align: right;\n",
       "    }\n",
       "</style>\n",
       "<table border=\"1\" class=\"dataframe\">\n",
       "  <thead>\n",
       "    <tr style=\"text-align: right;\">\n",
       "      <th></th>\n",
       "      <th>movie_id</th>\n",
       "      <th>title</th>\n",
       "      <th>year</th>\n",
       "      <th>action</th>\n",
       "      <th>adventure</th>\n",
       "      <th>animation</th>\n",
       "      <th>children</th>\n",
       "      <th>comedy</th>\n",
       "      <th>crime</th>\n",
       "      <th>documentary</th>\n",
       "      <th>...</th>\n",
       "      <th>film_noir</th>\n",
       "      <th>horror</th>\n",
       "      <th>imax</th>\n",
       "      <th>musical</th>\n",
       "      <th>mystery</th>\n",
       "      <th>romance</th>\n",
       "      <th>sci_fi</th>\n",
       "      <th>thriller</th>\n",
       "      <th>war</th>\n",
       "      <th>western</th>\n",
       "    </tr>\n",
       "  </thead>\n",
       "  <tbody>\n",
       "    <tr>\n",
       "      <th>0</th>\n",
       "      <td>1</td>\n",
       "      <td>Toy Story</td>\n",
       "      <td>1995</td>\n",
       "      <td>0</td>\n",
       "      <td>1</td>\n",
       "      <td>1</td>\n",
       "      <td>1</td>\n",
       "      <td>1</td>\n",
       "      <td>0</td>\n",
       "      <td>0</td>\n",
       "      <td>...</td>\n",
       "      <td>0</td>\n",
       "      <td>0</td>\n",
       "      <td>0</td>\n",
       "      <td>0</td>\n",
       "      <td>0</td>\n",
       "      <td>0</td>\n",
       "      <td>0</td>\n",
       "      <td>0</td>\n",
       "      <td>0</td>\n",
       "      <td>0</td>\n",
       "    </tr>\n",
       "    <tr>\n",
       "      <th>1</th>\n",
       "      <td>2</td>\n",
       "      <td>Jumanji</td>\n",
       "      <td>1995</td>\n",
       "      <td>0</td>\n",
       "      <td>1</td>\n",
       "      <td>0</td>\n",
       "      <td>1</td>\n",
       "      <td>0</td>\n",
       "      <td>0</td>\n",
       "      <td>0</td>\n",
       "      <td>...</td>\n",
       "      <td>0</td>\n",
       "      <td>0</td>\n",
       "      <td>0</td>\n",
       "      <td>0</td>\n",
       "      <td>0</td>\n",
       "      <td>0</td>\n",
       "      <td>0</td>\n",
       "      <td>0</td>\n",
       "      <td>0</td>\n",
       "      <td>0</td>\n",
       "    </tr>\n",
       "    <tr>\n",
       "      <th>2</th>\n",
       "      <td>3</td>\n",
       "      <td>Grumpier Old Men</td>\n",
       "      <td>1995</td>\n",
       "      <td>0</td>\n",
       "      <td>0</td>\n",
       "      <td>0</td>\n",
       "      <td>0</td>\n",
       "      <td>1</td>\n",
       "      <td>0</td>\n",
       "      <td>0</td>\n",
       "      <td>...</td>\n",
       "      <td>0</td>\n",
       "      <td>0</td>\n",
       "      <td>0</td>\n",
       "      <td>0</td>\n",
       "      <td>0</td>\n",
       "      <td>1</td>\n",
       "      <td>0</td>\n",
       "      <td>0</td>\n",
       "      <td>0</td>\n",
       "      <td>0</td>\n",
       "    </tr>\n",
       "    <tr>\n",
       "      <th>3</th>\n",
       "      <td>4</td>\n",
       "      <td>Waiting to Exhale</td>\n",
       "      <td>1995</td>\n",
       "      <td>0</td>\n",
       "      <td>0</td>\n",
       "      <td>0</td>\n",
       "      <td>0</td>\n",
       "      <td>1</td>\n",
       "      <td>0</td>\n",
       "      <td>0</td>\n",
       "      <td>...</td>\n",
       "      <td>0</td>\n",
       "      <td>0</td>\n",
       "      <td>0</td>\n",
       "      <td>0</td>\n",
       "      <td>0</td>\n",
       "      <td>1</td>\n",
       "      <td>0</td>\n",
       "      <td>0</td>\n",
       "      <td>0</td>\n",
       "      <td>0</td>\n",
       "    </tr>\n",
       "    <tr>\n",
       "      <th>4</th>\n",
       "      <td>5</td>\n",
       "      <td>Father of the Bride Part II</td>\n",
       "      <td>1995</td>\n",
       "      <td>0</td>\n",
       "      <td>0</td>\n",
       "      <td>0</td>\n",
       "      <td>0</td>\n",
       "      <td>1</td>\n",
       "      <td>0</td>\n",
       "      <td>0</td>\n",
       "      <td>...</td>\n",
       "      <td>0</td>\n",
       "      <td>0</td>\n",
       "      <td>0</td>\n",
       "      <td>0</td>\n",
       "      <td>0</td>\n",
       "      <td>0</td>\n",
       "      <td>0</td>\n",
       "      <td>0</td>\n",
       "      <td>0</td>\n",
       "      <td>0</td>\n",
       "    </tr>\n",
       "  </tbody>\n",
       "</table>\n",
       "<p>5 rows × 22 columns</p>\n",
       "</div>"
      ],
      "text/plain": [
       "   movie_id                        title  year  action  adventure  animation  \\\n",
       "0         1                    Toy Story  1995       0          1          1   \n",
       "1         2                      Jumanji  1995       0          1          0   \n",
       "2         3             Grumpier Old Men  1995       0          0          0   \n",
       "3         4            Waiting to Exhale  1995       0          0          0   \n",
       "4         5  Father of the Bride Part II  1995       0          0          0   \n",
       "\n",
       "   children  comedy  crime  documentary  ...  film_noir  horror  imax  \\\n",
       "0         1       1      0            0  ...          0       0     0   \n",
       "1         1       0      0            0  ...          0       0     0   \n",
       "2         0       1      0            0  ...          0       0     0   \n",
       "3         0       1      0            0  ...          0       0     0   \n",
       "4         0       1      0            0  ...          0       0     0   \n",
       "\n",
       "   musical  mystery  romance  sci_fi  thriller  war  western  \n",
       "0        0        0        0       0         0    0        0  \n",
       "1        0        0        0       0         0    0        0  \n",
       "2        0        0        1       0         0    0        0  \n",
       "3        0        0        1       0         0    0        0  \n",
       "4        0        0        0       0         0    0        0  \n",
       "\n",
       "[5 rows x 22 columns]"
      ]
     },
     "metadata": {},
     "output_type": "display_data"
    }
   ],
   "source": [
    "display(movie_meta.info())\n",
    "display(movie_meta.head())"
   ]
  },
  {
   "cell_type": "code",
   "execution_count": null,
   "metadata": {},
   "outputs": [],
   "source": []
  }
 ],
 "metadata": {
  "kernelspec": {
   "display_name": ".venv",
   "language": "python",
   "name": "python3"
  },
  "language_info": {
   "codemirror_mode": {
    "name": "ipython",
    "version": 3
   },
   "file_extension": ".py",
   "mimetype": "text/x-python",
   "name": "python",
   "nbconvert_exporter": "python",
   "pygments_lexer": "ipython3",
   "version": "3.11.7"
  }
 },
 "nbformat": 4,
 "nbformat_minor": 2
}
