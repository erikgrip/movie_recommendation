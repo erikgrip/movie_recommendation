{
 "cells": [
  {
   "cell_type": "code",
   "execution_count": 19,
   "metadata": {},
   "outputs": [
    {
     "name": "stdout",
     "output_type": "stream",
     "text": [
      "ml-latest/\n",
      "ml-latest/tags.csv\n",
      "ml-latest/links.csv\n",
      "ml-latest/README.txt\n",
      "ml-latest/ratings.csv\n",
      "ml-latest/genome-tags.csv\n",
      "ml-latest/genome-scores.csv\n",
      "ml-latest/movies.csv\n"
     ]
    }
   ],
   "source": [
    "import csv\n",
    "from io import TextIOWrapper\n",
    "import zipfile\n",
    "\n",
    "movies = []\n",
    "zip_path = \"data/ml-latest.zip\"\n",
    "with zipfile.ZipFile(zip_path) as archive:\n",
    "    for fn in archive.namelist():\n",
    "        print(fn)\n",
    "    with archive.open(\"ml-latest/ratings.csv\") as file:\n",
    "        # Read each column into a list of int or float values\n",
    "        for row in csv.reader(TextIOWrapper(file)):\n",
    "            movies.append(row)\n",
    "        \n",
    "\n"
   ]
  },
  {
   "cell_type": "code",
   "execution_count": 20,
   "metadata": {},
   "outputs": [
    {
     "data": {
      "text/plain": [
       "[['userId', 'movieId', 'rating', 'timestamp'],\n",
       " ['1', '1', '4.0', '1225734739'],\n",
       " ['1', '110', '4.0', '1225865086'],\n",
       " ['1', '158', '4.0', '1225733503'],\n",
       " ['1', '260', '4.5', '1225735204']]"
      ]
     },
     "execution_count": 20,
     "metadata": {},
     "output_type": "execute_result"
    }
   ],
   "source": [
    "movies[:5]"
   ]
  }
 ],
 "metadata": {
  "kernelspec": {
   "display_name": ".venv",
   "language": "python",
   "name": "python3"
  },
  "language_info": {
   "codemirror_mode": {
    "name": "ipython",
    "version": 3
   },
   "file_extension": ".py",
   "mimetype": "text/x-python",
   "name": "python",
   "nbconvert_exporter": "python",
   "pygments_lexer": "ipython3",
   "version": "3.11.7"
  }
 },
 "nbformat": 4,
 "nbformat_minor": 2
}
